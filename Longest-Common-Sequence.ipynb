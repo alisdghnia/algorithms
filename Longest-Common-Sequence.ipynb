{
 "cells": [
  {
   "cell_type": "code",
   "execution_count": 28,
   "metadata": {},
   "outputs": [
    {
     "name": "stdout",
     "output_type": "stream",
     "text": [
      "6\n",
      "(6, [[0, 0, 0, 0, 0, 0, 0, 0, 0, 0], [0, 3, 1, 3, 1, 1, 3, 1, 1, 3], [0, 1, 3, 1, 3, 3, 1, 3, 3, 1], [0, 1, 3, 1, 3, 3, 1, 3, 3, 1], [0, 2, 1, 3, 1, 1, 3, 1, 1, 3], [0, 1, 2, 1, 3, 3, 1, 3, 3, 1], [0, 2, 1, 2, 1, 1, 3, 1, 1, 3], [0, 1, 2, 1, 2, 3, 1, 3, 3, 1], [0, 2, 1, 2, 1, 1, 3, 1, 1, 3]])\n"
     ]
    }
   ],
   "source": [
    "def lcs(a, b):\n",
    "    m = len(a)\n",
    "    n = len(b)\n",
    "    c = [[0 for i in range(n+1)] for j in range(m+1)]\n",
    "    for i in range(1, m+1):\n",
    "        for j in range(1, n+1):\n",
    "            if a[i-1] == b[j-1]:\n",
    "                c[i][j] = c[i-1][j-1] + 1\n",
    "            else:\n",
    "                c[i][j] = max(c[i-1][j], c[i][j-1])\n",
    "    return c[m][n]\n",
    "\n",
    "a = [1, 0, 0, 1, 0, 1, 0, 1]\n",
    "b = [0, 1, 0, 1, 1, 0, 1, 1, 0]\n",
    "print(lcs(a, b))\n",
    "\n",
    "# draw the table\n",
    "\n",
    "# Path: Longest-Common-Sequence.ipynb\n",
    "\n",
    "def lcs_path(a, b):\n",
    "    m = len(a)\n",
    "    n = len(b)\n",
    "    c = [[0 for i in range(n+1)] for j in range(m+1)]\n",
    "    d = [[0 for i in range(n+1)] for j in range(m+1)]\n",
    "    for i in range(1, m+1):\n",
    "        for j in range(1, n+1):\n",
    "            if a[i-1] == b[j-1]:\n",
    "                c[i][j] = c[i-1][j-1] + 1\n",
    "                d[i][j] = 1\n",
    "            else:\n",
    "                if c[i-1][j] > c[i][j-1]:\n",
    "                    c[i][j] = c[i-1][j]\n",
    "                    d[i][j] = 2\n",
    "                else:\n",
    "                    c[i][j] = c[i][j-1]\n",
    "                    d[i][j] = 3\n",
    "    return c[m][n], d\n",
    "\n",
    "a = [1, 0, 0, 1, 0, 1, 0, 1]\n",
    "b = [0, 1, 0, 1, 1, 0, 1, 1, 0]\n",
    "print(lcs_path(a, b))\n"
   ]
  },
  {
   "cell_type": "code",
   "execution_count": null,
   "metadata": {},
   "outputs": [],
   "source": []
  }
 ],
 "metadata": {
  "kernelspec": {
   "display_name": "CryptoResearch",
   "language": "python",
   "name": "python3"
  },
  "language_info": {
   "codemirror_mode": {
    "name": "ipython",
    "version": 3
   },
   "file_extension": ".py",
   "mimetype": "text/x-python",
   "name": "python",
   "nbconvert_exporter": "python",
   "pygments_lexer": "ipython3",
   "version": "3.9.15"
  }
 },
 "nbformat": 4,
 "nbformat_minor": 2
}
