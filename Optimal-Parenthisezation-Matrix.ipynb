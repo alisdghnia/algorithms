{
 "cells": [
  {
   "cell_type": "code",
   "execution_count": 47,
   "metadata": {},
   "outputs": [
    {
     "name": "stdout",
     "output_type": "stream",
     "text": [
      "((A1A2)((A3A4)(A5A6)))\n",
      "[[   0.  150.  330.  405. 1655. 2010.]\n",
      " [   0.    0.  360.  330. 2430. 1950.]\n",
      " [   0.    0.    0.  180.  930. 1770.]\n",
      " [   0.    0.    0.    0. 3000. 1860.]\n",
      " [   0.    0.    0.    0.    0. 1500.]\n",
      " [   0.    0.    0.    0.    0.    0.]]\n",
      "[[0 0 1 1 3 1]\n",
      " [0 0 1 1 1 1]\n",
      " [0 0 0 2 3 3]\n",
      " [0 0 0 0 3 3]\n",
      " [0 0 0 0 0 4]\n",
      " [0 0 0 0 0 0]]\n"
     ]
    }
   ],
   "source": [
    "import numpy as np\n",
    "\n",
    "def optimal_parenthisezation(s, i, j):\n",
    "    if i == j:\n",
    "        print(f\"A{i + 1}\", end=\"\")\n",
    "    else:\n",
    "        print(\"(\", end=\"\")\n",
    "        optimal_parenthisezation(s, i, s[i][j])\n",
    "        optimal_parenthisezation(s, s[i][j] + 1, j)\n",
    "        print(\")\", end=\"\")\n",
    "\n",
    "def matrix_chain_order(p):\n",
    "    n = len(p) - 1\n",
    "    m = np.zeros((n, n))\n",
    "    s = np.zeros((n, n), dtype=int)\n",
    "    for l in range(2, n + 1):\n",
    "        for i in range(n - l + 1):\n",
    "            j = i + l - 1\n",
    "            m[i, j] = float(\"inf\")\n",
    "            for k in range(i, j):\n",
    "                q = m[i, k] + m[k + 1, j] + p[i] * p[k + 1] * p[j + 1]\n",
    "                if q < m[i, j]:\n",
    "                    m[i, j] = q\n",
    "                    s[i, j] = k\n",
    "    return m, s\n",
    "\n",
    "\n",
    "p = [5, 10, 3, 12, 5, 50, 6]\n",
    "m, s = matrix_chain_order(p)\n",
    "optimal_parenthisezation(s, 0, len(p) - 2)\n",
    "print()\n",
    "print(m)\n",
    "print(s)"
   ]
  },
  {
   "cell_type": "code",
   "execution_count": null,
   "metadata": {},
   "outputs": [],
   "source": []
  }
 ],
 "metadata": {
  "kernelspec": {
   "display_name": "CryptoResearch",
   "language": "python",
   "name": "python3"
  },
  "language_info": {
   "codemirror_mode": {
    "name": "ipython",
    "version": 3
   },
   "file_extension": ".py",
   "mimetype": "text/x-python",
   "name": "python",
   "nbconvert_exporter": "python",
   "pygments_lexer": "ipython3",
   "version": "3.9.15"
  }
 },
 "nbformat": 4,
 "nbformat_minor": 2
}
